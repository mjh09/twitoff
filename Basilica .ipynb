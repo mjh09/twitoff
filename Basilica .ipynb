{
 "cells": [
  {
   "cell_type": "code",
   "execution_count": 1,
   "metadata": {},
   "outputs": [
    {
     "name": "stdout",
     "output_type": "stream",
     "text": [
      "Collecting basilica\n",
      "  Downloading https://files.pythonhosted.org/packages/e4/37/c6c9f41e7776847d095e0bf0d7d2d9b959239c3f3d96fa0d1b0aae3bd155/basilica-0.2.6.tar.gz\n",
      "Requirement already satisfied: requests in c:\\users\\cactuar\\anaconda3\\lib\\site-packages (from basilica) (2.22.0)\n",
      "Requirement already satisfied: six in c:\\users\\cactuar\\anaconda3\\lib\\site-packages (from basilica) (1.12.0)\n",
      "Requirement already satisfied: Pillow in c:\\users\\cactuar\\anaconda3\\lib\\site-packages (from basilica) (6.1.0)\n",
      "Requirement already satisfied: certifi>=2017.4.17 in c:\\users\\cactuar\\anaconda3\\lib\\site-packages (from requests->basilica) (2019.6.16)\n",
      "Requirement already satisfied: idna<2.9,>=2.5 in c:\\users\\cactuar\\anaconda3\\lib\\site-packages (from requests->basilica) (2.8)\n",
      "Requirement already satisfied: chardet<3.1.0,>=3.0.2 in c:\\users\\cactuar\\anaconda3\\lib\\site-packages (from requests->basilica) (3.0.4)\n",
      "Requirement already satisfied: urllib3!=1.25.0,!=1.25.1,<1.26,>=1.21.1 in c:\\users\\cactuar\\anaconda3\\lib\\site-packages (from requests->basilica) (1.24.2)\n",
      "Building wheels for collected packages: basilica\n",
      "  Building wheel for basilica (setup.py): started\n",
      "  Building wheel for basilica (setup.py): finished with status 'done'\n",
      "  Stored in directory: C:\\Users\\Cactuar\\AppData\\Local\\pip\\Cache\\wheels\\98\\53\\41\\06a6ea54de7f8859628e0119a765e1357c537c19d6ca37c41e\n",
      "Successfully built basilica\n",
      "Installing collected packages: basilica\n",
      "Successfully installed basilica-0.2.6\n"
     ]
    },
    {
     "name": "stderr",
     "output_type": "stream",
     "text": [
      "WARNING: You are using pip version 19.2.1, however version 19.2.2 is available.\n",
      "You should consider upgrading via the 'python -m pip install --upgrade pip' command.\n"
     ]
    }
   ],
   "source": [
    "!pip install basilica"
   ]
  },
  {
   "cell_type": "code",
   "execution_count": 3,
   "metadata": {},
   "outputs": [],
   "source": [
    "import basilica\n",
    "conn = basilica.Connection('5a2003ff-a8ee-b93b-cfba-c5ebfaba27eb')\n",
    "embedding = conn.embed_sentence('this is a tweet', model='twitter')"
   ]
  },
  {
   "cell_type": "code",
   "execution_count": 4,
   "metadata": {},
   "outputs": [
    {
     "data": {
      "text/plain": [
       "768"
      ]
     },
     "execution_count": 4,
     "metadata": {},
     "output_type": "execute_result"
    }
   ],
   "source": [
    "len(embedding)"
   ]
  },
  {
   "cell_type": "code",
   "execution_count": null,
   "metadata": {},
   "outputs": [],
   "source": []
  }
 ],
 "metadata": {
  "kernelspec": {
   "display_name": "Python 3",
   "language": "python",
   "name": "python3"
  },
  "language_info": {
   "codemirror_mode": {
    "name": "ipython",
    "version": 3
   },
   "file_extension": ".py",
   "mimetype": "text/x-python",
   "name": "python",
   "nbconvert_exporter": "python",
   "pygments_lexer": "ipython3",
   "version": "3.7.3"
  }
 },
 "nbformat": 4,
 "nbformat_minor": 2
}
